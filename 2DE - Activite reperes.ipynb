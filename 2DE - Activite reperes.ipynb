{
 "cells": [
  {
   "cell_type": "markdown",
   "metadata": {},
   "source": [
    "Afin de pouvoir personnaliser votre classeur sans détruire le classeur sur lequel travaille votre voisin, vous allez tout d'abord aller dans le menu **`File`** puis **`Make a copy...`**. Renommez le classeur en ajoutant votre nom à la fin du nom de fichier par exemple."
   ]
  },
  {
   "cell_type": "markdown",
   "metadata": {},
   "source": [
    "# Activité Algorithmique : Repères et distance"
   ]
  },
  {
   "cell_type": "markdown",
   "metadata": {},
   "source": [
    "Pour commencer, nous allons commencer par définir les fonctions de tracé dans un repère.\n",
    "Utilisez simplement **Shift Entrée** pour valider le code ci-dessous."
   ]
  },
  {
   "cell_type": "code",
   "execution_count": 6,
   "metadata": {},
   "outputs": [],
   "source": [
    "## Pour cette section on définit deux fonctions \n",
    "from matplotlib.pyplot import *\n",
    "def trace_point(P,nom=\"\"):\n",
    "    plot(P[0],P[1],\"ro\")\n",
    "    text(P[0]-(P[1]-P[0])/6,P[1], nom, color='r')\n",
    "def trace_segment(P,Q):\n",
    "    plot([P[0],Q[0]],[P[1],Q[1]],\"b\")"
   ]
  },
  {
   "cell_type": "markdown",
   "metadata": {},
   "source": [
    "Dans un repère, nous souhaitons placer le point $A(2;3)$ et $B(3;4)$\n",
    "\n",
    "Voici comment procéder. Utiliser **Shift Entrée** pour valider le code ci-dessous"
   ]
  },
  {
   "cell_type": "code",
   "execution_count": 7,
   "metadata": {},
   "outputs": [
    {
     "data": {
      "image/png": "[encoded data removed]",
      "text/plain": [
       "<Figure size 432x288 with 1 Axes>"
      ]
     },
     "metadata": {
      "needs_background": "light"
     },
     "output_type": "display_data"
    }
   ],
   "source": [
    "# et on définit si on souhaite l'échelle de notre repère\n",
    "xlim(0,5) # On met ici l'échelle sur l'axe des abscisses\n",
    "ylim(0,5) # et là l'adresse sur l'axe des ordonnées\n",
    "grid()\n",
    "\n",
    "# On définit nos points. Les coordonnées sont séparées par une virgule\n",
    "A=(2,3)\n",
    "B=(3,4)\n",
    "\n",
    "# On trace les points\n",
    "trace_point(A,\"A\") # On précise le nom du point en second paramètre\n",
    "trace_point(B,\"B\")\n",
    "\n",
    "# et le segment [AB]\n",
    "trace_segment(A,B)\n"
   ]
  },
  {
   "cell_type": "markdown",
   "metadata": {},
   "source": [
    "## A vous de jouer"
   ]
  },
  {
   "cell_type": "markdown",
   "metadata": {},
   "source": [
    "Dans un repère, tracer le quadrilatère EFGH où les points sont donnés par:\n",
    "\n",
    "E(-1;1) F(1;-2) G(5;1) et H(3;4)"
   ]
  },
  {
   "cell_type": "code",
   "execution_count": 9,
   "metadata": {},
   "outputs": [
    {
     "data": {
      "image/png": "[encoded data removed]",
      "text/plain": [
       "<Figure size 432x288 with 1 Axes>"
      ]
     },
     "metadata": {
      "needs_background": "light"
     },
     "output_type": "display_data"
    }
   ],
   "source": [
    "# saisissez votre programme ici :\n",
    "E=(-1,1)\n",
    "F=(1,-2)\n",
    "G=(5,1)\n",
    "H=(3,4)\n",
    "trace_point(E,\"E\")\n",
    "trace_point(F,\"F\")\n",
    "trace_point(G,\"G\")\n",
    "trace_point(H,\"G\")\n",
    "trace_segment(E,F)\n",
    "trace_segment(F,G)\n",
    "trace_segment(G,H)\n",
    "trace_segment(H,E)"
   ]
  },
  {
   "cell_type": "markdown",
   "metadata": {},
   "source": [
    "## Milieu d'un segment"
   ]
  },
  {
   "cell_type": "markdown",
   "metadata": {},
   "source": [
    "Nous souhaitons *apprendre* à l'ordinateur comment trouver les coordonnées du milieu d'un segment. Nous allons donc définir la fonction milieu comme suit. Malheureusement, la fonction est incomplète. C'est à vous de remplacer les ***...*** !"
   ]
  },
  {
   "cell_type": "code",
   "execution_count": 10,
   "metadata": {},
   "outputs": [],
   "source": [
    "def milieu(A,B):\n",
    "    xA=A[0] # On récupère l'abscisse de A\n",
    "    yA=A[1] #     et son ordonnée\n",
    "    xB=B[0] # Pareil pour B\n",
    "    yB=B[1]\n",
    "    \n",
    "    # Compléter les lignes ci-dessous\n",
    "    xK=(A[0]+B[0])/2\n",
    "    yK=(A[1]+B[1])/2\n",
    "    \n",
    "    # On retourne le résultat\n",
    "    return (xK,yK)"
   ]
  },
  {
   "cell_type": "markdown",
   "metadata": {},
   "source": [
    "### Explications"
   ]
  },
  {
   "cell_type": "markdown",
   "metadata": {},
   "source": [
    "Nous commençons sur la première ligne par **définir** une fonction *milieu*. Il s'agit ici d'apprendre à Python comment calculer les coordonnées du milieu.\n",
    "\n",
    "Les 4 lignes suivantes permettent de donner aux variables $xA$, $xB$, $yA$, $yB$ les coordonnées des points $A$ et $B$\n",
    "\n",
    "Ensuite vient la partir principale de la fonction : on définit deux variables $xK$ et $yK$ qui contiennent les coordonnées du milieu de [AB]. Vous devez compléter cette partie.\n",
    "\n",
    "Pour finir, la dernière ligne permet de retourner le résultat attendu."
   ]
  },
  {
   "cell_type": "markdown",
   "metadata": {},
   "source": [
    "### Testons notre fonction"
   ]
  },
  {
   "cell_type": "markdown",
   "metadata": {},
   "source": [
    "On considère les points $A(4;1)$ et $B(1;4)$\n",
    "\n",
    "Voici comment calculer les coordonnées du milieu de [AB]. Validez le code ci-dessous par **Shift Entrée**"
   ]
  },
  {
   "cell_type": "code",
   "execution_count": 11,
   "metadata": {},
   "outputs": [
    {
     "data": {
      "text/plain": [
       "(2.5, 3.0)"
      ]
     },
     "execution_count": 11,
     "metadata": {},
     "output_type": "execute_result"
    }
   ],
   "source": [
    "A=(4,1)\n",
    "B=(1,5)\n",
    "milieu(A,B)"
   ]
  },
  {
   "cell_type": "markdown",
   "metadata": {},
   "source": [
    "Vérifions sur une figure. Validez le code ci-dessous par **Shift Entrée**"
   ]
  },
  {
   "cell_type": "code",
   "execution_count": 12,
   "metadata": {},
   "outputs": [
    {
     "data": {
      "image/png": "[encoded data removed]",
      "text/plain": [
       "<Figure size 432x288 with 1 Axes>"
      ]
     },
     "metadata": {
      "needs_background": "light"
     },
     "output_type": "display_data"
    }
   ],
   "source": [
    "# et on définit si on souhaite l'échelle de notre repère\n",
    "xlim(0,5) # On met ici l'échelle sur l'axe des abscisses\n",
    "ylim(0,5) # et là l'adresse sur l'axe des ordonnées\n",
    "grid()\n",
    "\n",
    "# On définit nos points. Les coordonnées sont séparées par une virgule\n",
    "A=(4,1)\n",
    "B=(1,5)\n",
    "K=milieu(A,B)\n",
    "\n",
    "# On trace les points\n",
    "trace_point(A,\"A\") # On précise le nom du point en second paramètre\n",
    "trace_point(B,\"B\")\n",
    "\n",
    "# et le segment [AB]\n",
    "trace_segment(A,B)\n",
    "trace_point(K,\"K\")"
   ]
  },
  {
   "cell_type": "markdown",
   "metadata": {},
   "source": [
    "### A vous de jouer"
   ]
  },
  {
   "cell_type": "markdown",
   "metadata": {},
   "source": [
    "On se rappelle le quadrilatère $EFGH$ de la section précédente : E(-1;1) F(1;-2) G(5;1) et H(3;4)\n",
    "\n",
    "On souhaite savoir si $EFGH$ est un parallélogramme.\n",
    "\n",
    "En utilisant votre fonction *milieu*, déterminer si $EFGH$ est un parallélogramme."
   ]
  },
  {
   "cell_type": "code",
   "execution_count": 13,
   "metadata": {},
   "outputs": [
    {
     "name": "stdout",
     "output_type": "stream",
     "text": [
      "EFGH est un parallélogramme\n"
     ]
    }
   ],
   "source": [
    "# Taper vos commandes Python ici\n",
    "K=milieu(E,G)\n",
    "L=milieu(F,H)\n",
    "if K==L:\n",
    "    print(\"EFGH est un parallélogramme\")\n",
    "else:\n",
    "    print(\"EFGH n'est pas un parallélogramme\")"
   ]
  },
  {
   "cell_type": "markdown",
   "metadata": {},
   "source": [
    "## Pour aller plus loin"
   ]
  },
  {
   "cell_type": "markdown",
   "metadata": {},
   "source": [
    "On souhaite maintenant écrire un programme qui, étant donnés 4 points $A$, $B$, $C$ et $D$ affiche si le quadrilatère $ABCD$ est un parallélogramme.\n",
    "\n",
    "Ecrivons en langage naturel l'*algorithme* répondant à nos besoins :\n",
    "> On considère les points $A(1;1)$ $B(3;4)$ $C(2;3)$ et $D(0;0)$\n",
    "\n",
    "> calculer les coordonnées du milieu K de [AC]\n",
    "\n",
    "> calculer les coordonnées du milieu L de [BD]\n",
    "\n",
    "> Si K et L sont confondus\n",
    "\n",
    "> Alors Afficher \"ABCD est un parallélogramme\"\n",
    "\n",
    "> Sinon Afficher \"ABCD n'est pas un parallélogramme\"\n",
    "\n",
    "Voici sa traduction dans le langage Pyhton. Remplacer les blancs (...) par ce qui convient."
   ]
  },
  {
   "cell_type": "code",
   "execution_count": null,
   "metadata": {},
   "outputs": [],
   "source": [
    "A=...\n",
    "B=...\n",
    "C=...\n",
    "D=...\n",
    "\n",
    "K=...\n",
    "L=...\n",
    "if K==L :\n",
    "    print(\"ABCD ...\")\n",
    "else : \n",
    "    print (\"ABCD ...\")"
   ]
  },
  {
   "cell_type": "markdown",
   "metadata": {},
   "source": [
    "A l'aide du programme ci-dessus, dire si le quadrilatère EFGH suivant :\n",
    ">E(-1;1) F(1;-2) G(5;1) et H(3;4)\n",
    "\n",
    "est un parallélogramme. On pourra éventuellement compléter ce programme afin de tracer une figure."
   ]
  },
  {
   "cell_type": "markdown",
   "metadata": {},
   "source": [
    "## Distance entre deux points"
   ]
  },
  {
   "cell_type": "markdown",
   "metadata": {},
   "source": [
    "Nous souhaitons *apprendre* à l'ordinateur comment calculer la longueur d'un segment. Nous allons donc définir la fonction distance comme suit. Malheureusement, la fonction est incomplète. C'est à vous de remplacer les ***...*** !"
   ]
  },
  {
   "cell_type": "code",
   "execution_count": null,
   "metadata": {},
   "outputs": [],
   "source": [
    "def distance(A,B):\n",
    "    xA=A[0] # On récupère l'abscisse de A\n",
    "    yA=A[1] #     et son ordonnée\n",
    "    xB=B[0] # Pareil pour B\n",
    "    yB=B[1]\n",
    "    \n",
    "    # Compléter la ligne ci-dessous\n",
    "    # La fonction Racine carrée s'écrit sqrt()\n",
    "    # le carré d'un nombre se calcule par nombre**2\n",
    "    AB=\n",
    "    \n",
    "    # On retourne le résultat\n",
    "    return AB"
   ]
  },
  {
   "cell_type": "markdown",
   "metadata": {},
   "source": [
    "Testons cette fonction :"
   ]
  },
  {
   "cell_type": "code",
   "execution_count": null,
   "metadata": {},
   "outputs": [],
   "source": [
    "A=(4,1)\n",
    "B=(1,5)\n",
    "distance(A,B)"
   ]
  },
  {
   "cell_type": "markdown",
   "metadata": {},
   "source": [
    "### A vous de jouer"
   ]
  },
  {
   "cell_type": "markdown",
   "metadata": {},
   "source": [
    "Soit A(0;-2) B(-7;-3) et C(5;3)\n",
    "\n",
    "Montrer que ABC est isocèle en A.\n",
    "\n",
    "*Indication* : On pourra calculer des longueurs au moyen de la fonction distance."
   ]
  },
  {
   "cell_type": "code",
   "execution_count": null,
   "metadata": {},
   "outputs": [],
   "source": [
    "# Donner votre réponse ici"
   ]
  },
  {
   "cell_type": "markdown",
   "metadata": {},
   "source": [
    "# Bilan de l'activité"
   ]
  },
  {
   "cell_type": "markdown",
   "metadata": {},
   "source": [
    "Nous avons vu dans cette activité\n",
    "- nos premiers algorithmes avec la notion de *variable*\n",
    "- l'utilisation de *variables* en Python\n",
    "- la structure ***Si ... Alors ... Sinon*** qui permet à un algorithme de prendre des décisions en fonction du résultat d'un test (ici, la comparaison des coordonnées de deux points)."
   ]
  },
  {
   "cell_type": "code",
   "execution_count": null,
   "metadata": {},
   "outputs": [],
   "source": []
  }
 ],
 "metadata": {
  "kernelspec": {
   "display_name": "Python 3",
   "language": "python",
   "name": "python3"
  },
  "language_info": {
   "codemirror_mode": {
    "name": "ipython",
    "version": 3
   },
   "file_extension": ".py",
   "mimetype": "text/x-python",
   "name": "python",
   "nbconvert_exporter": "python",
   "pygments_lexer": "ipython3",
   "version": "3.7.4"
  }
 },
 "nbformat": 4,
 "nbformat_minor": 1
}
