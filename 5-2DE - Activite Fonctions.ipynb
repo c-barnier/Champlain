{
 "metadata": {
  "name": "",
  "signature": "sha256:770bfbf492dbf89ca138ad06337185161fe9b4606f0456c755a1b5acb6bac3d4"
 },
 "nbformat": 3,
 "nbformat_minor": 0,
 "worksheets": [
  {
   "cells": [
    {
     "cell_type": "heading",
     "level": 1,
     "metadata": {},
     "source": [
      "Activit\u00e9 d'algorithmique sur les fonctions"
     ]
    },
    {
     "cell_type": "heading",
     "level": 2,
     "metadata": {},
     "source": [
      "D\u00e9finir une fonction"
     ]
    },
    {
     "cell_type": "markdown",
     "metadata": {},
     "source": [
      "On consid\u00e8re la fonction $x\\longmapsto f(x)$ d\u00e9finie \u00e0 l'aide de la m\u00e9thode de calcul (algorithme) suivante :\n",
      "- prendre un nombre\n",
      "- retrancher 4\n",
      "- \u00e9lever au carr\u00e9\n",
      "- prendre l'oppos\u00e9\n",
      "- ajouter 16"
     ]
    },
    {
     "cell_type": "markdown",
     "metadata": {},
     "source": [
      "***1\u00b0/*** Je choisis le nombre 4. Quel nombre obtient-on \u00e0 la sortie de l'algorithme ?\n",
      "\n",
      "M\u00eame question si je choisis le nombre 2 ?"
     ]
    },
    {
     "cell_type": "markdown",
     "metadata": {},
     "source": [
      "***Taper votre r\u00e9ponse ici...***"
     ]
    },
    {
     "cell_type": "markdown",
     "metadata": {},
     "source": [
      "***2\u00b0/*** On souhaite programmer cet algorithme de calcul dans l'ordinateur afin de lui faire faire les calculs \u00e0 notre place:)\n",
      "\n",
      "Nous allons donc d\u00e9finir une fonction *Python* qui fera ce travail. Elle est commenc\u00e9e, il ne reste qu'\u00e0 remplacer ***...*** par ce qui convient."
     ]
    },
    {
     "cell_type": "code",
     "collapsed": false,
     "input": [
      "def f(x):\n",
      "    y1=x-4    # on d\u00e9finit une variable y1 qui contient le r\u00e9sultat de la premi\u00e8re ligne de l'algorithme\n",
      "    y2=...    # on \u00e9l\u00e8ve au carr\u00e9 le r\u00e9sultat pr\u00e9c\u00e9dent\n",
      "    y3=...    # on prend l'oppos\u00e9 du r\u00e9sultat pr\u00e9c\u00e9dent\n",
      "    y4=...    # on ajoute 16 au r\u00e9sultat pr\u00e9c\u00e9dent\n",
      "    return y4 # On renvoie le r\u00e9sultat de notre algoritme de calcul"
     ],
     "language": "python",
     "metadata": {},
     "outputs": []
    },
    {
     "cell_type": "markdown",
     "metadata": {},
     "source": [
      "***3\u00b0/*** Et voila, notre fonction est \u00e0 pr\u00e9sent d\u00e9finie. Il ne nous reste plus qu'\u00e0 la tester sur les exemples que l'on a calcul\u00e9 \u00e0 la question 1\u00b0/"
     ]
    },
    {
     "cell_type": "code",
     "collapsed": false,
     "input": [
      "print(f(4))\n",
      "print(f(2))"
     ],
     "language": "python",
     "metadata": {},
     "outputs": []
    },
    {
     "cell_type": "markdown",
     "metadata": {},
     "source": [
      "Avez-vous retrouv\u00e9 les m\u00eames valeurs ? Si oui alors vous pouvez continer."
     ]
    },
    {
     "cell_type": "heading",
     "level": 2,
     "metadata": {},
     "source": [
      "Afficher des nombres et leurs images"
     ]
    },
    {
     "cell_type": "markdown",
     "metadata": {},
     "source": [
      "Nous souaihtons dans cette partie afficher les images de tous les entiers de 0 \u00e0 10. Une premi\u00e8re \u00e9tape est de commencer par r\u00e9aliser un bel affichage \u00e0 l'aide de la fonction ***print*** :\n",
      "\n",
      "***1\u00b0/*** Si $x$ d\u00e9signe un nombre, nous souhaiterions afficher *** l'image de x par f est y*** o\u00f9 $x$ et $y$ sont bien s\u00fbr remplac\u00e9es par les valeurs. Voici un exemple :"
     ]
    },
    {
     "cell_type": "code",
     "collapsed": false,
     "input": [
      "x=4\n",
      "print(\"L'image de \",x,\" par f est \",f(x))"
     ],
     "language": "python",
     "metadata": {},
     "outputs": []
    },
    {
     "cell_type": "markdown",
     "metadata": {},
     "source": [
      "*Explcations* : Nous pouvons indiquer \u00e0 la fonction ***print*** d'afficher plusieurs choses sur la m\u00eame ligne : il suffit pour cela d'indiquer ces choses \u00e0 l'int\u00e9rieur de la parenth\u00e8se, en les s\u00e9parant par une **virgule**. Ici, nous affichons \n",
      "- le texte \"L'image de \"\n",
      "- le contenu de la variable $x$\n",
      "- le texte \" par f est \"\n",
      "- le r\u00e9sultat de calcul de $f(x)$\n",
      "Ce qui donne le r\u00e9sultat attendu.\n",
      "\n",
      "*Attention* : remarquez bien la diff\u00e9rence entre un texte d\u00e9limit\u00e9 par les \"\" (on appelle cela une cha\u00eene de caract\u00e8re) et le contenu d'une variable ou d'un calcul pour lequel nous ne mettons pas les \"\". \n",
      "\n",
      "Pourquoi se donne t-on tant de mal \u00e0 bien distinguer ce qui est purement du texte avec ce qui rel\u00e8ve d'un calcul ? regardez plut\u00f4t l'exemple qui suit :"
     ]
    },
    {
     "cell_type": "code",
     "collapsed": false,
     "input": [
      "x=2\n",
      "print(\"L'image de x par f est f(x)\")"
     ],
     "language": "python",
     "metadata": {},
     "outputs": []
    },
    {
     "cell_type": "markdown",
     "metadata": {},
     "source": [
      "Nous avons \u00e9crit **presque** la m\u00eame cchose \u00e0 ceci pr\u00e8s que tout est \u00e0 l'int\u00e9rieur de la cha\u00eene de caract\u00e8re. COmme vous le voyez, le r\u00e9sultat est nettement moins int\u00e9ressant !"
     ]
    },
    {
     "cell_type": "markdown",
     "metadata": {},
     "source": [
      " 2\u00b0/ Voyons voir si vous avez compris le m\u00e9canisme de la fonction **print** : Nous souhaiterions afficher $f(x)=y$ o\u00f9 $x$ et $y$ sont bien s\u00fbr remplac\u00e9es par les valeurs."
     ]
    },
    {
     "cell_type": "code",
     "collapsed": false,
     "input": [
      "x=4\n",
      "# A vous de compl\u00e9ter\n",
      "print "
     ],
     "language": "python",
     "metadata": {},
     "outputs": []
    },
    {
     "cell_type": "markdown",
     "metadata": {},
     "source": [
      "Vous avez obtenu l'affichage ***f( 4 )= 16*** ? F\u00e9licitations ! nous pouvons passer \u00e0 la suite."
     ]
    },
    {
     "cell_type": "heading",
     "level": 2,
     "metadata": {},
     "source": [
      "Calculer un tableau de valeurs"
     ]
    },
    {
     "cell_type": "markdown",
     "metadata": {},
     "source": [
      "L'objectif de cette partie est de r\u00e9aliser un tableau de valeurs en le pr\u00e9sentant sous cette forme :\n",
      "<PRE>\n",
      "f( 0 )= 0\n",
      "f( 1 )= 7\n",
      "f( 2 )= 12\n",
      "f( 3 )= 15\n",
      "f( 4 )= 16\n",
      "f( 5 )= 15\n",
      "f( 6 )= 12\n",
      "f( 7 )= 7\n",
      "f( 8 )= 0\n",
      "f( 9 )= -9\n",
      "</PRE>\n",
      "\n",
      "***1\u00b0/*** En vous aidant de ce que l'on a fait \u00e0 la question pr\u00e9c\u00e9dente, affichez le tableau de valeurs demand\u00e9."
     ]
    },
    {
     "cell_type": "code",
     "collapsed": false,
     "input": [
      "# a vous de compl\u00e9ter..."
     ],
     "language": "python",
     "metadata": {},
     "outputs": []
    },
    {
     "cell_type": "markdown",
     "metadata": {},
     "source": [
      "Cela est assez fastidieux. On voit \u00e9galement que si on souahite d\u00e9terminer les images des entiers de 1 \u00e0 1000, cette m\u00e9thode n'est **plus du tout adapt\u00e9e**.\n",
      "\n",
      "De plus, on peut remarquer que dans ces lignes que l'on a tap\u00e9es, il y a beaucoup de r\u00e9p\u00e9titions : la commande ***print*** en effet est ***toujours identique***. Seule la ***valeur de la variable x*** change. \n",
      "\n",
      "En programmation, nous avons un moyens d'effectuer facilement ces taches r\u00e9p\u00e9titives : on utilise ce qu'on appelle une ***boucle***. Une boucle est un m\u00e9canisme permettant de r\u00e9p\u00e9ter des taches similaires un grand nombre de fois."
     ]
    },
    {
     "cell_type": "markdown",
     "metadata": {},
     "source": [
      "***2\u00b0/*** Ex\u00e9cutez le programme suivant :"
     ]
    },
    {
     "cell_type": "code",
     "collapsed": false,
     "input": [
      "for x in range(10):\n",
      "    print(\"f(\",x,\")=\",f(x))"
     ],
     "language": "python",
     "metadata": {},
     "outputs": []
    },
    {
     "cell_type": "markdown",
     "metadata": {},
     "source": [
      "Expliquez le principe de son fonctionnement :\n",
      "\n",
      "Votre explication..."
     ]
    },
    {
     "cell_type": "markdown",
     "metadata": {},
     "source": [
      "En algorithmique, ce type de boucle permettant de r\u00e9p\u00e9ter les m\u00eames instructions un certain nombre de fois est une ***boucle pour***. En langage naturel, ce programme pourrait se traduire ainsi :\n",
      "<PRE>\n",
      "    Pour x allant de 0 \u00e0 9, faire\n",
      "        Afficher f(x) = x\n",
      "    Fin de la boucle Pour\n",
      "</PRE>"
     ]
    },
    {
     "cell_type": "markdown",
     "metadata": {},
     "source": [
      "***3\u00b0/*** Modifiez le programme ci-dessus pour afficher le tableau de valeurs pour les entiers de 0 \u00e0 20."
     ]
    },
    {
     "cell_type": "code",
     "collapsed": false,
     "input": [
      "# Votre r\u00e9ponse ici"
     ],
     "language": "python",
     "metadata": {},
     "outputs": []
    },
    {
     "cell_type": "heading",
     "level": 2,
     "metadata": {},
     "source": [
      "Repr\u00e9sentation graphique d'une fonction"
     ]
    },
    {
     "cell_type": "markdown",
     "metadata": {},
     "source": [
      "Pour cette partie, nous allons importer les fonctions de trac\u00e9 que nous avons utilis\u00e9es lors d'une s\u00e9ance pr\u00e9c\u00e9dente. Validez simplement la cellule ci-dessous pour b\u00e9n\u00e9ficier des fonctions ***trace_point*** et ***trace_segment***"
     ]
    },
    {
     "cell_type": "code",
     "collapsed": false,
     "input": [
      "def trace_point(P,nom=\"\"):\n",
      "    plot(P[0],P[1],\"ro\")\n",
      "    text(P[0]-(P[1]-P[0])/6,P[1], nom, color='r')\n",
      "def trace_segment(P,Q):\n",
      "    plot([P[0],Q[0]],[P[1],Q[1]],\"b\")"
     ],
     "language": "python",
     "metadata": {},
     "outputs": []
    },
    {
     "cell_type": "markdown",
     "metadata": {},
     "source": [
      "Nous souhaiterions obtenir sur un graphique les points correspondants au tableau de valeur calcul\u00e9 dans la partie pr\u00e9c\u00e9dente.\n",
      "\n",
      "***1\u00b0/*** En vous aidant des valeurs calcul\u00e9es pr\u00e9c\u00e9demment (pou l'\u00e9chelle sur l'axe des ordonn\u00e9es en particulier) et de la syntaxe de la boucle pur d\u00e9j\u00e0 rencontr\u00e9e, remplacez dans le programme ci-dessous les ***...*** pur obtenir les points de la courbe"
     ]
    },
    {
     "cell_type": "code",
     "collapsed": false,
     "input": [
      "xlim(0,10)\n",
      "ylim(...,...) # R\u00e9gler l'\u00e9chelle sur y ici\n",
      "for ...\n",
      "    M=(x,...)\n",
      "    trace_point(M)"
     ],
     "language": "python",
     "metadata": {},
     "outputs": []
    },
    {
     "cell_type": "markdown",
     "metadata": {},
     "source": [
      "***2\u00b0/*** Relier les points sur le graphique pr\u00e9c\u00e9dent afin d'obtenir une courbe continue."
     ]
    },
    {
     "cell_type": "code",
     "collapsed": false,
     "input": [
      "# Votre programme ici"
     ],
     "language": "python",
     "metadata": {},
     "outputs": []
    },
    {
     "cell_type": "code",
     "collapsed": false,
     "input": [],
     "language": "python",
     "metadata": {},
     "outputs": []
    }
   ],
   "metadata": {}
  }
 ]
}