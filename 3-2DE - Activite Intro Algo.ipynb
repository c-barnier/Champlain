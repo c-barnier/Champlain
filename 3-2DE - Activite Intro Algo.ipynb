{
 "metadata": {
  "name": "",
  "signature": "sha256:be07d6708ac47c22cbea4cbf7957ceaafa52e5138c1f8ee24240e6453399a572"
 },
 "nbformat": 3,
 "nbformat_minor": 0,
 "worksheets": [
  {
   "cells": [
    {
     "cell_type": "markdown",
     "metadata": {},
     "source": [
      "Afin de pouvoir personnaliser votre classeur sans d\u00e9truire le classeur sur lequel travaille votre voisin, vous allez tout d'abord aller dans le menu **`File`** puis **`Make a copy...`**. Renommez le classeur en ajoutant votre nom \u00e0 la fin du nom de fichier par exemple."
     ]
    },
    {
     "cell_type": "heading",
     "level": 1,
     "metadata": {},
     "source": [
      "A compl\u00e9ter"
     ]
    },
    {
     "cell_type": "heading",
     "level": 1,
     "metadata": {},
     "source": [
      "Introduction : Notion de variable"
     ]
    },
    {
     "cell_type": "markdown",
     "metadata": {},
     "source": [
      "Une variable en programmation ou en algorithmique est une case m\u00e9moire dans l'ordinateur permettant de stocker une information. Celle-ci peut \u00eatre un nombre, un texte ou une information bien plus complexe.\n",
      "\n",
      "L'exemple ci-dessous permet d'**affecter** la valeur 3 \u00e0 la *variable* x.\n",
      "\n",
      "Utiliser **Shift Entr\u00e9e** pour valider le code ci-dessous."
     ]
    },
    {
     "cell_type": "code",
     "collapsed": false,
     "input": [
      "x=3"
     ],
     "language": "python",
     "metadata": {},
     "outputs": []
    },
    {
     "cell_type": "markdown",
     "metadata": {},
     "source": [
      "A pr\u00e9sent, l'ordinateur saura que lorsque je fais r\u00e9f\u00e9rence \u00e0 la case m\u00e9moire $x$, la valeur \u00e0 retourner dera 3. J'utilise le mot cl\u00e9 **print()** pour afficher le contenu de la variable $x$.\n",
      "\n",
      "Utiliser **Shift Entr\u00e9e** pour valider le code ci-dessous."
     ]
    },
    {
     "cell_type": "code",
     "collapsed": false,
     "input": [
      "print(x)\n",
      "print(4*x) # On peut aussi faire des op\u00e9rations avec les variables !"
     ],
     "language": "python",
     "metadata": {},
     "outputs": []
    },
    {
     "cell_type": "heading",
     "level": 1,
     "metadata": {},
     "source": [
      "Le langage algorithmique"
     ]
    },
    {
     "cell_type": "markdown",
     "metadata": {},
     "source": [
      "En g\u00e9n\u00e9ral, avant de se lancer dans l'\u00e9criture d'un programme sur ordinateur, on r\u00e9fl\u00e9chit sur papier \u00e0 la mani\u00e8re de c\u00e9composer notre probl\u00e8me en une suite d'instructions suffisemment simples pour \u00eatre ex\u00e9cut\u00e9es par un ordinateur : c'est un algorithme.\n",
      "\n",
      "Ces algorithmes sont souvent \u00e9crits \u00e0 l'aide de mots du langage naturel. Par exemple, le programme que vous venons de voir pourrait s'\u00e9crire \u00e0 l'aide du langage algorithmique de la mani\u00e8re suivante :\n",
      "\n",
      "> $x$ prend la valeur $3$ \n",
      "\n",
      "> Afficher $x$\n",
      "\n",
      "> Afficher $4\\times x$"
     ]
    },
    {
     "cell_type": "heading",
     "level": 2,
     "metadata": {},
     "source": [
      "A vous de jouer"
     ]
    },
    {
     "cell_type": "markdown",
     "metadata": {},
     "source": [
      "Ecrire ci-dessous un programme Python correspondant \u00e0 l'algorithme ci-dessous :\n",
      "> $x$ prend la valeur $3$ \n",
      "\n",
      "> $y$ prend la valeur -6\n",
      "\n",
      "> Afficher $2\\times x+y$\n",
      "\n",
      "> Afficher $x-y$"
     ]
    },
    {
     "cell_type": "code",
     "collapsed": false,
     "input": [
      "# Saisissez votre programme ici et validez par Shift+Entr\u00e9e"
     ],
     "language": "python",
     "metadata": {},
     "outputs": []
    },
    {
     "cell_type": "heading",
     "level": 1,
     "metadata": {},
     "source": [
      "Bilan de l'activit\u00e9"
     ]
    },
    {
     "cell_type": "markdown",
     "metadata": {},
     "source": [
      "Nous avons vu dans cette activit\u00e9\n",
      "- nos premiers algorithmes avec la notion de *variable*\n",
      "- l'utilisation de *variables* en Python"
     ]
    },
    {
     "cell_type": "code",
     "collapsed": false,
     "input": [],
     "language": "python",
     "metadata": {},
     "outputs": []
    }
   ],
   "metadata": {}
  }
 ]
}