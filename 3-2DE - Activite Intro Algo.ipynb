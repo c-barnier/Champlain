{
 "cells": [
  {
   "cell_type": "markdown",
   "metadata": {},
   "source": [
    "# Introduction : Notion de variable"
   ]
  },
  {
   "cell_type": "markdown",
   "metadata": {},
   "source": [
    "Une variable en programmation ou en algorithmique est une case mémoire dans l'ordinateur permettant de stocker une information. Celle-ci peut être un nombre, un texte ou une information bien plus complexe.\n",
    "\n",
    "L'exemple ci-dessous permet d'**affecter** la valeur 3 à la *variable* x.\n",
    "\n",
    "Utiliser **Shift Entrée** pour valider le code ci-dessous."
   ]
  },
  {
   "cell_type": "code",
   "execution_count": null,
   "metadata": {},
   "outputs": [],
   "source": [
    "x=3"
   ]
  },
  {
   "cell_type": "markdown",
   "metadata": {},
   "source": [
    "A présent, l'ordinateur saura que lorsque je fais référence à la case mémoire $x$, la valeur à retourner dera 3. J'utilise le mot clé **print()** pour afficher le contenu de la variable $x$.\n",
    "\n",
    "Utiliser **Shift Entrée** pour valider le code ci-dessous."
   ]
  },
  {
   "cell_type": "code",
   "execution_count": null,
   "metadata": {},
   "outputs": [],
   "source": [
    "print(x)\n",
    "print(4*x) # On peut aussi faire des opérations avec les variables !"
   ]
  },
  {
   "cell_type": "markdown",
   "metadata": {},
   "source": [
    "# Le langage algorithmique"
   ]
  },
  {
   "cell_type": "markdown",
   "metadata": {},
   "source": [
    "En général, avant de se lancer dans l'écriture d'un programme sur ordinateur, on réfléchit sur papier à la manière de cécomposer notre problème en une suite d'instructions suffisemment simples pour être exécutées par un ordinateur : c'est un algorithme.\n",
    "\n",
    "Ces algorithmes sont souvent écrits à l'aide de mots du langage naturel. Par exemple, le programme que vous venons de voir pourrait s'écrire à l'aide du langage algorithmique de la manière suivante :\n",
    "\n",
    "> $x$ prend la valeur $3$ \n",
    "\n",
    "> Afficher $x$\n",
    "\n",
    "> Afficher $4\\times x$"
   ]
  },
  {
   "cell_type": "markdown",
   "metadata": {},
   "source": [
    "## A vous de jouer"
   ]
  },
  {
   "cell_type": "markdown",
   "metadata": {},
   "source": [
    "Ecrire ci-dessous un programme Python correspondant à l'algorithme ci-dessous :\n",
    "> $x$ prend la valeur $3$ \n",
    "\n",
    "> $y$ prend la valeur -6\n",
    "\n",
    "> Afficher $2\\times x+y$\n",
    "\n",
    "> Afficher $x-y$"
   ]
  },
  {
   "cell_type": "code",
   "execution_count": null,
   "metadata": {},
   "outputs": [],
   "source": [
    "# Saisissez votre programme ici et validez par Shift+Entrée"
   ]
  },
  {
   "cell_type": "markdown",
   "metadata": {},
   "source": [
    "# Bilan de l'activité"
   ]
  },
  {
   "cell_type": "markdown",
   "metadata": {},
   "source": [
    "Nous avons vu dans cette activité\n",
    "- nos premiers algorithmes avec la notion de *variable*\n",
    "- l'utilisation de *variables* en Python"
   ]
  },
  {
   "cell_type": "code",
   "execution_count": null,
   "metadata": {},
   "outputs": [],
   "source": []
  }
 ],
 "metadata": {
  "kernelspec": {
   "display_name": "Python 3",
   "language": "python",
   "name": "python3"
  },
  "language_info": {
   "codemirror_mode": {
    "name": "ipython",
    "version": 3
   },
   "file_extension": ".py",
   "mimetype": "text/x-python",
   "name": "python",
   "nbconvert_exporter": "python",
   "pygments_lexer": "ipython3",
   "version": "3.7.4"
  }
 },
 "nbformat": 4,
 "nbformat_minor": 1
}
